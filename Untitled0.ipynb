{
  "nbformat": 4,
  "nbformat_minor": 0,
  "metadata": {
    "colab": {
      "provenance": []
    },
    "kernelspec": {
      "name": "python3",
      "display_name": "Python 3"
    },
    "language_info": {
      "name": "python"
    }
  },
  "cells": [
    {
      "cell_type": "code",
      "execution_count": 1,
      "metadata": {
        "colab": {
          "base_uri": "https://localhost:8080/"
        },
        "id": "N1qLE-wi1Zx5",
        "outputId": "f4b9a93d-c805-44f2-e1dd-4000d235172e"
      },
      "outputs": [
        {
          "output_type": "stream",
          "name": "stdout",
          "text": [
            "Interstellar\n",
            "The Dark Knight\n",
            "Tenet\n"
          ]
        }
      ],
      "source": [
        "import pandas as pd\n",
        "from sklearn.feature_extraction.text import CountVectorizer\n",
        "from sklearn.metrics.pairwise import cosine_similarity\n",
        "\n",
        "# Sample movie data\n",
        "movies = {\n",
        "    'title': ['Inception', 'Interstellar', 'The Dark Knight', 'Tenet', 'The Prestige'],\n",
        "    'tags': ['dream sci-fi', 'space time', 'superhero crime', 'time travel spy', 'magic mystery']\n",
        "}\n",
        "df = pd.DataFrame(movies)\n",
        "\n",
        "cv = CountVectorizer()\n",
        "count_matrix = cv.fit_transform(df['tags'])\n",
        "similarity = cosine_similarity(count_matrix)\n",
        "\n",
        "def recommend(movie):\n",
        "    idx = df[df.title == movie].index[0]\n",
        "    distances = similarity[idx]\n",
        "    recommendations = sorted(list(enumerate(distances)), reverse=True, key=lambda x: x[1])[1:4]\n",
        "    for i in recommendations:\n",
        "        print(df.iloc[i[0]].title)\n",
        "\n",
        "recommend('Inception')\n"
      ]
    }
  ]
}